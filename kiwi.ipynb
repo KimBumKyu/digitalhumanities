{
 "cells": [
  {
   "cell_type": "code",
   "execution_count": 52,
   "id": "bd8cbbf9-d37c-4c75-be3b-8b18473f19d4",
   "metadata": {},
   "outputs": [
    {
     "name": "stdout",
     "output_type": "stream",
     "text": [
      "Requirement already satisfied: kiwipiepy in c:\\programdata\\anaconda3\\lib\\site-packages (0.15.1)\n",
      "Requirement already satisfied: numpy in c:\\programdata\\anaconda3\\lib\\site-packages (from kiwipiepy) (1.21.5)\n",
      "Requirement already satisfied: kiwipiepy-model~=0.15 in c:\\programdata\\anaconda3\\lib\\site-packages (from kiwipiepy) (0.15.0)\n",
      "Requirement already satisfied: tqdm in c:\\programdata\\anaconda3\\lib\\site-packages (from kiwipiepy) (4.64.1)\n",
      "Requirement already satisfied: dataclasses in c:\\programdata\\anaconda3\\lib\\site-packages (from kiwipiepy) (0.6)\n",
      "Requirement already satisfied: colorama in c:\\programdata\\anaconda3\\lib\\site-packages (from tqdm->kiwipiepy) (0.4.5)\n"
     ]
    }
   ],
   "source": [
    "!pip install kiwipiepy"
   ]
  },
  {
   "cell_type": "code",
   "execution_count": 69,
   "id": "c1dfaaf2-12b7-4ddf-a36e-e8a5016de32f",
   "metadata": {},
   "outputs": [],
   "source": [
    "from kiwipiepy import Kiwi\n",
    "kiwi = Kiwi()\n",
    "kiwi.load_user_dictionary('user_dictionary.txt')\n",
    "kiwi.prepare()"
   ]
  },
  {
   "cell_type": "code",
   "execution_count": 70,
   "id": "67a6849f-47a4-4fde-810b-42b0ce83b5bb",
   "metadata": {},
   "outputs": [
    {
     "data": {
      "text/plain": [
       "('a/b/c-b-sd', 1)"
      ]
     },
     "execution_count": 70,
     "metadata": {},
     "output_type": "execute_result"
    }
   ],
   "source": [
    "import re\n",
    "re.subn('a','a/b/c','a-b-sd')"
   ]
  },
  {
   "cell_type": "code",
   "execution_count": 71,
   "id": "fdc5d069-7bbb-425d-a76b-f31384a0c982",
   "metadata": {},
   "outputs": [
    {
     "data": {
      "text/plain": [
       "'먀랴머'"
      ]
     },
     "execution_count": 71,
     "metadata": {},
     "output_type": "execute_result"
    }
   ],
   "source": [
    "re.sub('[^가-힣]','','ㅇㄴㅁㅁㄴㄹㅇㄴ먀랴머')"
   ]
  },
  {
   "cell_type": "code",
   "execution_count": 72,
   "id": "1f24541f-69ae-4def-a2d8-f6fc10389f2c",
   "metadata": {},
   "outputs": [
    {
     "name": "stdout",
     "output_type": "stream",
     "text": [
      "[Token(form='많', tag='VA', start=0, len=1), Token(form='관부', tag='NNG', start=1, len=2)]\n"
     ]
    }
   ],
   "source": [
    "print(kiwi.tokenize('많관부'))"
   ]
  },
  {
   "cell_type": "code",
   "execution_count": 73,
   "id": "f6ae7858-4b85-4729-89c6-89c7357f9196",
   "metadata": {},
   "outputs": [
    {
     "data": {
      "text/plain": [
       "True"
      ]
     },
     "execution_count": 73,
     "metadata": {},
     "output_type": "execute_result"
    }
   ],
   "source": [
    "kiwi.add_user_word('많관부', tag='NNP', score=0)"
   ]
  },
  {
   "cell_type": "code",
   "execution_count": 74,
   "id": "e01976ea-1127-47da-970e-9804cfa97054",
   "metadata": {},
   "outputs": [
    {
     "name": "stdout",
     "output_type": "stream",
     "text": [
      "[Token(form='아니', tag='MAG', start=0, len=2), Token(form='되', tag='VV', start=2, len=1), Token(form='옵니다', tag='EF', start=3, len=3), Token(form='.', tag='SF', start=6, len=1), Token(form='말린오징어', tag='NNG', start=8, len=5), Token(form='는', tag='JX', start=13, len=1), Token(form='통촉', tag='NNG', start=15, len=2), Token(form='하', tag='XSV', start=17, len=1), Token(form='어', tag='EC', start=18, len=1), Token(form='주', tag='VX', start=20, len=1), Token(form='시', tag='EP', start=21, len=1), Token(form='옵', tag='EP', start=22, len=1), Token(form='소서', tag='NNG', start=23, len=2), Token(form='전하', tag='NNG', start=26, len=2), Token(form='~', tag='SO', start=28, len=1)]\n"
     ]
    }
   ],
   "source": [
    "print(kiwi.tokenize('아니되옵니다. 말린오징어는 통촉하여 주시옵소서 전하~'))"
   ]
  },
  {
   "cell_type": "code",
   "execution_count": 75,
   "id": "98d6d429-83d8-404d-937f-867441aff03e",
   "metadata": {},
   "outputs": [],
   "source": [
    "def extract_noun(text):\n",
    "    result = kiwi.tokenize(text)\n",
    "    for token in result:\n",
    "        if token.tag in ['NNG', 'NNP']:\n",
    "            yield token.form"
   ]
  },
  {
   "cell_type": "code",
   "execution_count": 76,
   "id": "8084d607-7173-48dc-b5f5-a0849ce11f03",
   "metadata": {},
   "outputs": [],
   "source": [
    "words=list(extract_noun('전하 아니되옵니다, 전하. 통촉하여 주시옵소서 전하~'))"
   ]
  },
  {
   "cell_type": "code",
   "execution_count": 77,
   "id": "eb1346fe-8fa3-486b-9c6d-5f2292d686b3",
   "metadata": {},
   "outputs": [],
   "source": [
    "import pandas as pd"
   ]
  },
  {
   "cell_type": "code",
   "execution_count": 81,
   "id": "485d6dec-5e6b-4be4-bd55-9d9a2c0f8316",
   "metadata": {},
   "outputs": [],
   "source": [
    "topwords=pd.Series(words).value_counts().head(3)"
   ]
  },
  {
   "cell_type": "code",
   "execution_count": 82,
   "id": "7a298b32-c0a5-45e7-a509-4e589a34b71b",
   "metadata": {},
   "outputs": [],
   "source": [
    "sarang = open('sarang.txt', encoding = 'UTF-8').read()"
   ]
  },
  {
   "cell_type": "code",
   "execution_count": 86,
   "id": "77fbbcff-901c-4233-905c-6ed4f22dfdf8",
   "metadata": {},
   "outputs": [],
   "source": [
    "sarang = re.sub('[^가-힣]', ' ', sarang)"
   ]
  },
  {
   "cell_type": "code",
   "execution_count": 89,
   "id": "fcbe599e-b5be-43c9-afd7-62c96dc5c49f",
   "metadata": {},
   "outputs": [],
   "source": [
    "saranglist=list(extract_noun(sarang))"
   ]
  },
  {
   "cell_type": "code",
   "execution_count": 91,
   "id": "cf509c11-549d-40b0-a928-0150f21efc43",
   "metadata": {},
   "outputs": [],
   "source": [
    "topwords = pd.Series(saranglist).value_counts().head(10)"
   ]
  },
  {
   "cell_type": "code",
   "execution_count": 93,
   "id": "3375010d-f265-4f33-a62a-d8f14c9462ac",
   "metadata": {},
   "outputs": [
    {
     "data": {
      "text/plain": [
       "어머니    167\n",
       "아저씨     95\n",
       "옥희      61\n",
       "엄마      44\n",
       "때       38\n",
       "아버지     30\n",
       "풍금      30\n",
       "외삼촌     29\n",
       "생각      28\n",
       "사랑      26\n",
       "dtype: int64"
      ]
     },
     "execution_count": 93,
     "metadata": {},
     "output_type": "execute_result"
    }
   ],
   "source": [
    "topwords"
   ]
  },
  {
   "cell_type": "code",
   "execution_count": 94,
   "id": "2a91fa98-ea0c-4cb3-8e36-545f325f44cb",
   "metadata": {},
   "outputs": [],
   "source": [
    "topwords.to_csv(\"sa.csv\")"
   ]
  },
  {
   "cell_type": "code",
   "execution_count": 95,
   "id": "d17194dc-080c-4c3b-b8d7-ea0df1336622",
   "metadata": {},
   "outputs": [
    {
     "name": "stdout",
     "output_type": "stream",
     "text": [
      "Collecting wordcloud\n",
      "  Downloading wordcloud-1.9.2-cp39-cp39-win_amd64.whl (153 kB)\n",
      "     -------------------------------------- 153.3/153.3 kB 9.5 MB/s eta 0:00:00\n",
      "Requirement already satisfied: pillow in c:\\programdata\\anaconda3\\lib\\site-packages (from wordcloud) (9.2.0)\n",
      "Requirement already satisfied: matplotlib in c:\\programdata\\anaconda3\\lib\\site-packages (from wordcloud) (3.5.2)\n",
      "Requirement already satisfied: numpy>=1.6.1 in c:\\programdata\\anaconda3\\lib\\site-packages (from wordcloud) (1.21.5)\n",
      "Requirement already satisfied: cycler>=0.10 in c:\\programdata\\anaconda3\\lib\\site-packages (from matplotlib->wordcloud) (0.11.0)\n",
      "Requirement already satisfied: fonttools>=4.22.0 in c:\\programdata\\anaconda3\\lib\\site-packages (from matplotlib->wordcloud) (4.25.0)\n",
      "Requirement already satisfied: packaging>=20.0 in c:\\programdata\\anaconda3\\lib\\site-packages (from matplotlib->wordcloud) (21.3)\n",
      "Requirement already satisfied: kiwisolver>=1.0.1 in c:\\programdata\\anaconda3\\lib\\site-packages (from matplotlib->wordcloud) (1.4.2)\n",
      "Requirement already satisfied: python-dateutil>=2.7 in c:\\programdata\\anaconda3\\lib\\site-packages (from matplotlib->wordcloud) (2.8.2)\n",
      "Requirement already satisfied: pyparsing>=2.2.1 in c:\\programdata\\anaconda3\\lib\\site-packages (from matplotlib->wordcloud) (3.0.9)\n",
      "Requirement already satisfied: six>=1.5 in c:\\programdata\\anaconda3\\lib\\site-packages (from python-dateutil>=2.7->matplotlib->wordcloud) (1.16.0)\n",
      "Installing collected packages: wordcloud\n",
      "Successfully installed wordcloud-1.9.2\n"
     ]
    }
   ],
   "source": [
    "!pip install wordcloud"
   ]
  },
  {
   "cell_type": "code",
   "execution_count": 122,
   "id": "edb9b516-4b9b-4d55-ae95-cf66b4dfa672",
   "metadata": {},
   "outputs": [],
   "source": [
    "font='HSJiptokki-Black.ttf'"
   ]
  },
  {
   "cell_type": "code",
   "execution_count": 132,
   "id": "8672aaf8-ff53-49ac-917a-8ee4517c83a4",
   "metadata": {},
   "outputs": [
    {
     "data": {
      "text/plain": [
       "{'어머니': 167,\n",
       " '아저씨': 95,\n",
       " '옥희': 61,\n",
       " '엄마': 44,\n",
       " '때': 38,\n",
       " '아버지': 30,\n",
       " '풍금': 30,\n",
       " '외삼촌': 29,\n",
       " '생각': 28,\n",
       " '사랑': 26}"
      ]
     },
     "execution_count": 132,
     "metadata": {},
     "output_type": "execute_result"
    }
   ],
   "source": [
    "cloudword=topwords.to_dict()\n",
    "cloudword"
   ]
  },
  {
   "cell_type": "code",
   "execution_count": 133,
   "id": "951d0cd4-b436-41a7-8d97-4f97df071445",
   "metadata": {},
   "outputs": [],
   "source": [
    "from wordcloud import WordCloud"
   ]
  },
  {
   "cell_type": "code",
   "execution_count": 134,
   "id": "b6dbc249-df58-4a75-b6ad-e1c1db614499",
   "metadata": {},
   "outputs": [],
   "source": [
    "wc=WordCloud(random_state = 1234, font_path = font, width = 400, height = 400, \n",
    "background_color = 'white')"
   ]
  },
  {
   "cell_type": "code",
   "execution_count": 135,
   "id": "1c06e793-c4a9-46b8-bd2b-51fea81bf538",
   "metadata": {},
   "outputs": [],
   "source": [
    "img_wordcloud = wc.generate_from_frequencies(cloudword)"
   ]
  },
  {
   "cell_type": "code",
   "execution_count": 136,
   "id": "11179aae-c893-43fb-b041-f85177a8b9cf",
   "metadata": {},
   "outputs": [
    {
     "ename": "SyntaxError",
     "evalue": "invalid syntax (570614699.py, line 3)",
     "output_type": "error",
     "traceback": [
      "\u001b[1;36m  File \u001b[1;32m\"C:\\Users\\USER\\AppData\\Local\\Temp\\ipykernel_10044\\570614699.py\"\u001b[1;36m, line \u001b[1;32m3\u001b[0m\n\u001b[1;33m    plt.axis('off')\u001b[0m\n\u001b[1;37m    ^\u001b[0m\n\u001b[1;31mSyntaxError\u001b[0m\u001b[1;31m:\u001b[0m invalid syntax\n"
     ]
    }
   ],
   "source": [
    "import matplotlib.pyplot as plt\n",
    "plt.figure(figsize = (10,10)\n",
    "plt.axis('off')\n",
    "plt.imshow(img_wordcloud)"
   ]
  }
 ],
 "metadata": {
  "kernelspec": {
   "display_name": "Python 3 (ipykernel)",
   "language": "python",
   "name": "python3"
  },
  "language_info": {
   "codemirror_mode": {
    "name": "ipython",
    "version": 3
   },
   "file_extension": ".py",
   "mimetype": "text/x-python",
   "name": "python",
   "nbconvert_exporter": "python",
   "pygments_lexer": "ipython3",
   "version": "3.9.13"
  }
 },
 "nbformat": 4,
 "nbformat_minor": 5
}
