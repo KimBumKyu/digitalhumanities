{
  "nbformat": 4,
  "nbformat_minor": 0,
  "metadata": {
    "colab": {
      "provenance": [],
      "authorship_tag": "ABX9TyMIgWMoeygJ2nIenKN1CiNO",
      "include_colab_link": true
    },
    "kernelspec": {
      "name": "python3",
      "display_name": "Python 3"
    },
    "language_info": {
      "name": "python"
    }
  },
  "cells": [
    {
      "cell_type": "markdown",
      "metadata": {
        "id": "view-in-github",
        "colab_type": "text"
      },
      "source": [
        "<a href=\"https://colab.research.google.com/github/KimBumKyu/digitalhumanities/blob/main/gimal.ipynb\" target=\"_parent\"><img src=\"https://colab.research.google.com/assets/colab-badge.svg\" alt=\"Open In Colab\"/></a>"
      ]
    },
    {
      "cell_type": "code",
      "execution_count": 1,
      "metadata": {
        "colab": {
          "base_uri": "https://localhost:8080/"
        },
        "id": "vNM-SrqQzQX3",
        "outputId": "c000eb51-c264-4268-a6f8-10f34268702c"
      },
      "outputs": [
        {
          "output_type": "stream",
          "name": "stdout",
          "text": [
            "정렬이전: [50, 10, 40, 20, 30]\n",
            "1단계 후: [10, 50, 40, 20, 30]\n",
            "2단계 후: [10, 40, 50, 20, 30]\n",
            "3단계 후: [10, 20, 40, 50, 30]\n",
            "4단계 후: [10, 20, 30, 40, 50]\n"
          ]
        }
      ],
      "source": [
        "\n",
        "#1번 삽입정렬 알고리즘\n",
        "arr=[50,10,40,20,30]\n",
        "print(\"정렬이전:\",arr)\n",
        "cnt=0\n",
        "for end in range(1, len(arr)):\n",
        "    for i in range(end, 0, -1):\n",
        "        if arr[i - 1] > arr[i]:\n",
        "            arr[i - 1], arr[i] = arr[i], arr[i - 1]\n",
        "    cnt+=1\n",
        "    print(f\"{cnt}단계 후:\",arr)"
      ]
    },
    {
      "cell_type": "code",
      "source": [
        "#2번 버블정렬\n",
        "arr=[50,30,40,20,10]\n",
        "cnt=0\n",
        "print(\"정렬이전:\",arr)\n",
        "for i in range(len(arr) - 1, 0, -1):\n",
        "    for j in range(i):\n",
        "        if arr[j] > arr[j + 1]:\n",
        "            arr[j], arr[j + 1] = arr[j + 1], arr[j]\n",
        "    cnt+=1\n",
        "    print(f\"{cnt}단계 후:\",arr)"
      ],
      "metadata": {
        "id": "lW-I-Ii5zilr"
      },
      "execution_count": null,
      "outputs": []
    },
    {
      "cell_type": "code",
      "source": [
        "#3번 선택정렬 알고리즘\n",
        "arr=[40,30,50,20,10]\n",
        "print(\"정렬이전:\",arr)\n",
        "cnt=0\n",
        "for i in range(len(arr) - 1):\n",
        "    min_idx = i\n",
        "    for j in range(i + 1, len(arr)):\n",
        "        if arr[j] < arr[min_idx]:\n",
        "            min_idx = j\n",
        "    arr[i], arr[min_idx] = arr[min_idx], arr[i]\n",
        "    cnt+=1\n",
        "    print(f\"{cnt}단계 후:\",arr)"
      ],
      "metadata": {
        "id": "qhKRYO3kzmOj"
      },
      "execution_count": null,
      "outputs": []
    },
    {
      "cell_type": "code",
      "source": [
        "#4번 이진탐색 알고리즘\n",
        "def binary_search (arr, target, start, end):\n",
        "    global count\n",
        "    while start <= end:\n",
        "        count+=1\n",
        "        mid = (start + end) // 2\n",
        "\n",
        "        if arr[mid] == target:\n",
        "            return mid\n",
        "\n",
        "        elif arr[mid] > target:\n",
        "            end = mid - 1\n",
        "\n",
        "        else:\n",
        "            start = mid + 1\n",
        "\n",
        "    return None\n",
        "\n",
        "arr = list(map(int,input(\"입력 데이터\").split(\",\")))\n",
        "n = len(arr)\n",
        "count=0\n",
        "target=int(input(\"탐색할 숫자를 입력하세요:\"))\n",
        "\n",
        "res = binary_search(arr, target, 0, n-1)\n",
        "\n",
        "if res==None :\n",
        "    print(\"탐색 성공 여부: 실패\")\n",
        "    print(\"전체 비교 횟수:\",count)\n",
        "else :\n",
        "    print(\"탐색 성공 여부: 성공\")\n",
        "    print(\"전체 비교 횟수:\",count)\n",
        "    print(\"찾은 숫자 위치:\",res+1)"
      ],
      "metadata": {
        "id": "nFs-esgAzsF0"
      },
      "execution_count": null,
      "outputs": []
    },
    {
      "cell_type": "code",
      "source": [
        "#5번 차탐색 알고리즘\n",
        "arr = list(map(int,input(\"입력 데이터\").split(\",\")))\n",
        "target=int(input(\"탐색할 숫자를 입력하세요:\"))\n",
        "flag=False\n",
        "for i in range(len(arr)) :\n",
        "    if target==arr[i]:\n",
        "        print(\"탐색 성공 여부: 성공\")\n",
        "        print(\"전체 비교 횟수:\",i+1)\n",
        "        flag=True\n",
        "        break\n",
        "if flag == False:\n",
        "    print(\"탐색 성공 여부: 실패\")\n",
        "    print(\"전체 비교 횟수\",len(arr))"
      ],
      "metadata": {
        "id": "G9zxbRflzvcD"
      },
      "execution_count": null,
      "outputs": []
    },
    {
      "cell_type": "code",
      "source": [
        "#6번 그리디알고리즘\n",
        "coin={500:0,100:0,50:0,10:0}\n",
        "\n",
        "change=int(input(\"거스름돈의 액수를 입력하세요:\"))\n",
        "for i in coin:\n",
        "    tmp = change//i\n",
        "    change=change-tmp*i\n",
        "    coin[i]+=tmp\n",
        "print(\"최소 동전 개수:\",sum(coin.values()))\n",
        "print(f\"각 동전의 개수: 500원({coin[500]}),100원({coin[100]}),50원({coin[50]}),10원({coin[10]})\")"
      ],
      "metadata": {
        "id": "dBptStYnz2Ti"
      },
      "execution_count": null,
      "outputs": []
    },
    {
      "cell_type": "code",
      "source": [
        "#7번 동적계획법 피보나치\n",
        "def dp_fibo(n):\n",
        "    dp = [0] * (n+1)\n",
        "    dp[0], dp[1] = 0, 1\n",
        "    for i in range(2, n+1):\n",
        "        dp[i] = dp[i-2] + dp[i-1]\n",
        "    return dp\n",
        "n = int(input(\"피보나치 수 F(n)을 출력합니다. n을 입력하세요: \"))\n",
        "ls = dp_fibo(n)\n",
        "print(ls)"
      ],
      "metadata": {
        "id": "ycQYxyQKz5VQ"
      },
      "execution_count": null,
      "outputs": []
    }
  ]
}